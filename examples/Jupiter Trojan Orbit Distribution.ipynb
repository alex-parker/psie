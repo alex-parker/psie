{
 "cells": [
  {
   "cell_type": "code",
   "execution_count": 1,
   "metadata": {},
   "outputs": [],
   "source": [
    "import numpy as np \n",
    "import matplotlib.pyplot as plt \n",
    "import pandas as pd\n",
    "from multiprocess.pool import Pool\n",
    "\n",
    "from psie import ABCr"
   ]
  },
  {
   "cell_type": "markdown",
   "metadata": {},
   "source": [
    "## Load and prepare data\n",
    "\n",
    "Data file is taken from the minor planet center and contains a list of all known Jupiter Trojans as of April 15, 2021. Data is loaded via pandas and then filtered only for the relatively-complete sample brighter than H~11."
   ]
  },
  {
   "cell_type": "code",
   "execution_count": 2,
   "metadata": {},
   "outputs": [],
   "source": [
    "D2R = np.pi / 180.0\n",
    "df = pd.read_fwf('JupiterTrojans_mpc_04152021.txt')\n",
    "\n",
    "### Filter for everything brighter than H ~ 11\n",
    "H_jt = df['H'].to_numpy()\n",
    "H_jt[np.isnan(H_jt)] = np.inf\n",
    "mask = np.where(H_jt < 11)\n",
    "H_jt = H_jt[mask]\n",
    "\n",
    "### orbital elements of interest\n",
    "a_jt = df['a'].to_numpy()[mask]\n",
    "i_jt = df['Incl.'].to_numpy()[mask]\n",
    "e_jt = df['e'].to_numpy()[mask]\n",
    "\n",
    "### stack into a single array\n",
    "d_init = np.vstack((a_jt, e_jt, i_jt))"
   ]
  },
  {
   "cell_type": "markdown",
   "metadata": {},
   "source": [
    "## Prepare orbital distribution model\n",
    "\n",
    "If you want to accelerate a pure-python model with `jit`, you will need to construct two functions. One will contain the numerical guts of the model and have explicit keyword arguments with default values. This will be the function that gets a `@jit` decorator. The second function will accept a `psie` parameter dictionary and call the first model, feeding the contents of the parameter dictionary to the keyword arguments of the first model. This second function will be the one passed to `psie` as the model.\n",
    "\n",
    "There is probably a slicker way to do this, but I have not found one that plays well with `jit`."
   ]
  },
  {
   "cell_type": "code",
   "execution_count": 3,
   "metadata": {},
   "outputs": [],
   "source": [
    "def call_jt_model_v1(params, N=0):\n",
    "    '''\n",
    "    Utility function to convert psie parameter dictionary to model keyword arguments.\n",
    "    '''\n",
    "    return(jt_model_v1(a_w=params['a_w'], e_w=params['e_w'], i_w=params['i_w'], N=N))\n",
    "\n",
    "\n",
    "def jt_model_v1(a_w=0.05, e_w=0.2, i_w=0.1, \n",
    "                q_large=4.0, q_small=2.0, sfd_break=100.0,\n",
    "                H_complete=11, H_lim50=16, H_limw=0.5, \n",
    "                lat_a=1.0, lat_b=1.0, N=0):\n",
    "    \n",
    "    ''' \n",
    "    v1 model parameters:\n",
    "    a_w          = semi-major axis gaussian width\n",
    "    e_w          = eccentricity rayleigh distribution width\n",
    "    i_w          = inclination distribution width\n",
    "    \n",
    "    q_large      = large-object sfd slope\n",
    "    q_small      = small-object sfd slope\n",
    "    sfd_break    = break diameter from q_large to q_small    \n",
    "    \n",
    "    H_complete   = H magnitude at which population is complete\n",
    "    H_lim50      = 50% limiting absolute magnitude\n",
    "    H_limw       = sensitivity function rollover width\n",
    "    \n",
    "    lat_a        = latitude coverage function a parameter\n",
    "    lat_b        = latitude coverage function b parameter\n",
    "    \n",
    "    '''\n",
    "    \n",
    "    a_m = 5.207\n",
    "    sma       = np.random.normal(a_m, a_w, 10*N)\n",
    "    ecc       = np.random.rayleigh(e_w, 10*N)\n",
    "    inc       = np.random.rayleigh(i_w, 10*N)\n",
    "    \n",
    "    p = np.ones(sma.shape)\n",
    "    \n",
    "    p[ecc > 1]  = 0\n",
    "    p[inc > 90] = 0\n",
    "    p[np.abs(sma-a_m)> 0.26] = 0\n",
    "    \n",
    "    sma_r     = sma[np.where(p)]\n",
    "    ecc_r     = ecc[np.where(p)]\n",
    "    inc_r     = inc[np.where(p)]\n",
    "    \n",
    "    inds_sma = np.random.randint(0, sma_r.size, N)\n",
    "    inds_ecc = np.random.randint(0, sma_r.size, N)\n",
    "    inds_inc = np.random.randint(0, sma_r.size, N)\n",
    "\n",
    "    \n",
    "    sma_r = sma_r[inds_sma]\n",
    "    ecc_r = ecc_r[inds_ecc]\n",
    "    inc_r = inc_r[inds_inc]\n",
    "\n",
    "    ### SURVEY SIMULATOR HAPPENS HERE\n",
    "    \n",
    "    return np.vstack((sma_r, ecc_r, inc_r)), False\n",
    "    "
   ]
  },
  {
   "cell_type": "markdown",
   "metadata": {},
   "source": [
    "## Set up the ABCr sampler\n",
    "\n",
    "Now that the data and stochastic model are availble, we can set up the inference engine."
   ]
  },
  {
   "cell_type": "code",
   "execution_count": 4,
   "metadata": {},
   "outputs": [],
   "source": [
    "abc = ABCr(priors={'a_w':   ('uniform_float',  0.001, 0.2),\n",
    "                   'e_w':   ('uniform_float',  0.001, 1),\n",
    "                   'i_w':   ('uniform_float',  0, 30)},\n",
    "           model=call_jt_model_v1)\n"
   ]
  },
  {
   "cell_type": "markdown",
   "metadata": {},
   "source": [
    "## Run the ABCr sampler and extract a discrete sample of the pdf\n",
    "\n",
    "You can send a multiprocessing pool to the abc instance and the code with automatically execute in parallel."
   ]
  },
  {
   "cell_type": "code",
   "execution_count": 8,
   "metadata": {},
   "outputs": [
    {
     "name": "stderr",
     "output_type": "stream",
     "text": [
      "100%|██████████| 10000/10000 [00:14<00:00, 695.42it/s]\n",
      "100%|██████████| 10000/10000 [00:14<00:00, 694.81it/s]\n",
      "100%|█████████▉| 9951/10000 [00:14<00:00, 612.69it/s]]\n",
      "\n",
      "\n",
      "100%|██████████| 10000/10000 [00:14<00:00, 691.52it/s]\n",
      "100%|██████████| 10000/10000 [00:14<00:00, 689.31it/s]\n",
      "100%|██████████| 10000/10000 [00:14<00:00, 687.92it/s]\n",
      "100%|██████████| 10000/10000 [00:14<00:00, 686.07it/s]\n",
      "100%|██████████| 10000/10000 [00:14<00:00, 685.41it/s]\n"
     ]
    }
   ],
   "source": [
    "pool = Pool(10)\n",
    "abc.iterate_parallel(data=d_init, n_iter=10000, pool=pool)"
   ]
  },
  {
   "cell_type": "code",
   "execution_count": 9,
   "metadata": {},
   "outputs": [],
   "source": [
    "pdf = abc.sample_pdf()"
   ]
  },
  {
   "cell_type": "code",
   "execution_count": 10,
   "metadata": {},
   "outputs": [
    {
     "data": {
      "image/png": "[encoded data removed]",
      "text/plain": [
       "<Figure size 432x288 with 1 Axes>"
      ]
     },
     "metadata": {
      "needs_background": "light"
     },
     "output_type": "display_data"
    }
   ],
   "source": [
    "h = plt.scatter( pdf['a_w'], pdf['e_w'] )\n",
    "#t = plt.xlabel('Semi-Major Axis Distribution Width')"
   ]
  },
  {
   "cell_type": "code",
   "execution_count": 11,
   "metadata": {},
   "outputs": [
    {
     "data": {
      "image/png": "[encoded data removed]",
      "text/plain": [
       "<Figure size 432x288 with 1 Axes>"
      ]
     },
     "metadata": {
      "needs_background": "light"
     },
     "output_type": "display_data"
    }
   ],
   "source": [
    "h = plt.hist( pdf['e_w'] )\n",
    "t = plt.xlabel('Eccentricity Distribution Width')"
   ]
  },
  {
   "cell_type": "code",
   "execution_count": 12,
   "metadata": {},
   "outputs": [
    {
     "data": {
      "image/png": "[encoded data removed]",
      "text/plain": [
       "<Figure size 432x288 with 1 Axes>"
      ]
     },
     "metadata": {
      "needs_background": "light"
     },
     "output_type": "display_data"
    }
   ],
   "source": [
    "h = plt.hist( pdf['i_w'] )\n",
    "t = plt.xlabel('Inclination Distribution Width')"
   ]
  },
  {
   "cell_type": "code",
   "execution_count": null,
   "metadata": {},
   "outputs": [],
   "source": []
  },
  {
   "cell_type": "code",
   "execution_count": null,
   "metadata": {},
   "outputs": [],
   "source": []
  }
 ],
 "metadata": {
  "kernelspec": {
   "display_name": "Python 3",
   "language": "python",
   "name": "python3"
  },
  "language_info": {
   "codemirror_mode": {
    "name": "ipython",
    "version": 3
   },
   "file_extension": ".py",
   "mimetype": "text/x-python",
   "name": "python",
   "nbconvert_exporter": "python",
   "pygments_lexer": "ipython3",
   "version": "3.7.4"
  }
 },
 "nbformat": 4,
 "nbformat_minor": 2
}
