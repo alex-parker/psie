{
 "cells": [
  {
   "cell_type": "markdown",
   "metadata": {},
   "source": [
    "# Using the Planetary Science Inference Engine to infer the properties of a size-frequency distribution.\n",
    "\n",
    "These 'demo_dev' notebooks are sandboxes for developing and testing new features of PSIE before the are migrated to the project source. \n",
    "\n",
    "This notebook constructs an 'sfd' class for use with PSIE tools and uses it to demonstrate identifying a parsimonious model and infering the credible intervals of its parameters given an input dataset."
   ]
  },
  {
   "cell_type": "code",
   "execution_count": 61,
   "metadata": {},
   "outputs": [],
   "source": [
    "# package importing\n",
    "import numpy as np "
   ]
  },
  {
   "cell_type": "code",
   "execution_count": 62,
   "metadata": {},
   "outputs": [],
   "source": [
    "class SFD:\n",
    "    '''\n",
    "    Generic class for size-frequency distribution manipulation, \n",
    "    observational filtering, and likelihood-free inference.\n",
    "    '''\n",
    "    def __init__(self, model=None, init_params={}, parameter_priors={}):\n",
    "        self._p = init_params\n",
    "        self._pp = parameter_priors\n",
    "        self._model = model\n",
    "        self.sample = None\n",
    "        \n",
    "        return None\n",
    "\n",
    "    def generate_sample(self, N):\n",
    "        self.sample = self._model(self._p, N)\n",
    "        \n",
    "        return None    \n",
    "    \n",
    "    def sample_new_parameters(self, ):\n",
    "        self._p = self._priors()\n",
    "        return None\n",
    "    \n",
    "    def _test_against_data(self, ):\n",
    "        return None\n",
    "    \n",
    "    def _priors(self, ):\n",
    "        _p1 = {}\n",
    "        for key in self._pp.keys():\n",
    "            ### dict structure: 'key': type, ...\n",
    "            ### if type=='callable':\n",
    "            ### --> new_param = self._parameter_priors(key)\n",
    "            ###     TODO: ADD PASSABLE ARGS + KWARGS\n",
    "            ### if type=='uniform_float':\n",
    "            ### --> sample from np.random.uniform, val1 to val2\n",
    "            ### if type=='uniform_int':\n",
    "            ### --> sample from np.random.randint, val1 to val2\n",
    "            \n",
    "            if self._pp[key][0] == 'callable':\n",
    "                _p1[key] = self._pp[key][1]()\n",
    "            elif self._pp[key][0] == 'uniform_float':\n",
    "                _p1[key] = np.random.uniform( self._pp[key][1], self._pp[key][2] )\n",
    "            elif self._pp[key][0] == 'uniform_int':\n",
    "                _p1[key] = np.random.randint( self._pp[key][1], self._pp[key][2] )\n",
    "            else:\n",
    "                ### pass old value?\n",
    "                _p1[key] = self._p[key]\n",
    "                \n",
    "        self._p = _p1.copy()\n",
    "        return None\n",
    "    \n",
    "\n",
    "    def _filters(self, ):\n",
    "        return None\n",
    "    "
   ]
  },
  {
   "cell_type": "code",
   "execution_count": 63,
   "metadata": {},
   "outputs": [
    {
     "data": {
      "text/plain": [
       "{'a': 0.961221805655918, 'b': 9.572727821236548, 'c': 46, 'd': 1}"
      ]
     },
     "execution_count": 63,
     "metadata": {},
     "output_type": "execute_result"
    }
   ],
   "source": [
    "def sample():\n",
    "    return np.random.uniform(0, 1)\n",
    "\n",
    "\n",
    "sfd = SFD(init_params={'a':0, 'b':0, 'c':3, 'd':1}, \n",
    "          parameter_priors={'a':('callable', sample),\n",
    "                            'b':('uniform_float', -10, 10),\n",
    "                            'c':('uniform_int', 1, 100),\n",
    "                            'd':('test_else')})\n",
    "\n",
    "### example call of new prior parameters\n",
    "sfd._p\n",
    "sfd._priors()\n",
    "sfd._p"
   ]
  },
  {
   "cell_type": "code",
   "execution_count": null,
   "metadata": {},
   "outputs": [],
   "source": []
  }
 ],
 "metadata": {
  "kernelspec": {
   "display_name": "Python 3",
   "language": "python",
   "name": "python3"
  },
  "language_info": {
   "codemirror_mode": {
    "name": "ipython",
    "version": 3
   },
   "file_extension": ".py",
   "mimetype": "text/x-python",
   "name": "python",
   "nbconvert_exporter": "python",
   "pygments_lexer": "ipython3",
   "version": "3.7.4"
  }
 },
 "nbformat": 4,
 "nbformat_minor": 2
}
